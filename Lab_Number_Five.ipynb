{
  "nbformat": 4,
  "nbformat_minor": 0,
  "metadata": {
    "colab": {
      "provenance": [],
      "include_colab_link": true
    },
    "kernelspec": {
      "name": "python3",
      "display_name": "Python 3"
    },
    "language_info": {
      "name": "python"
    }
  },
  "cells": [
    {
      "cell_type": "markdown",
      "metadata": {
        "id": "view-in-github",
        "colab_type": "text"
      },
      "source": [
        "<a href=\"https://colab.research.google.com/github/nae-stormrage/python_ncfu/blob/master/Lab_Number_Five.ipynb\" target=\"_parent\"><img src=\"https://colab.research.google.com/assets/colab-badge.svg\" alt=\"Open In Colab\"/></a>"
      ]
    },
    {
      "cell_type": "markdown",
      "source": [
        "# Практическая работа 5. Объектно-Ориентированное Программирование(ООП)\n"
      ],
      "metadata": {
        "id": "C3DZeo7xi2HL"
      }
    },
    {
      "cell_type": "markdown",
      "source": [
        "## Выполнил работу\n",
        "* ФИО: Маркус Станислав Витальевич\n",
        "* Группа: ИНС-б-о-22-2\n",
        "* Курс: 1\n",
        "* Вариант индивидуальных заданий: 15"
      ],
      "metadata": {
        "id": "QzKWf4hP1mhF"
      }
    },
    {
      "cell_type": "markdown",
      "source": [
        "## Задание"
      ],
      "metadata": {
        "id": "8wIyzax9q7JF"
      }
    },
    {
      "cell_type": "markdown",
      "source": [
        "Класс «Отрезок в пространстве». \n",
        "Реализовать:\n",
        "*   ввод и вывод полей данных (координаты начала и координаты конца отрезка)\n",
        "*   вычисление длины \n",
        "*   расстояний начала и конца отрезка от начала координат\n",
        "*   вывод информации об объекте.\n"
      ],
      "metadata": {
        "id": "A1UMdzQGjFix"
      }
    },
    {
      "cell_type": "markdown",
      "source": [
        "## Решение задачи\n"
      ],
      "metadata": {
        "id": "RGlwZaXQrAfd"
      }
    },
    {
      "cell_type": "code",
      "source": [
        "class Par:\n",
        "    def __init__(self, px1, py1, pz1, px2, py2, pz2):\n",
        "        self.x1 = px1\n",
        "        self.y1 = py1\n",
        "        self.z1 = pz1\n",
        "        self.x2 = px2\n",
        "        self.y2 = py2\n",
        "        self.z2 = pz2\n",
        "\n",
        "\n",
        "    def GetDlina(self):\n",
        "        return abs(((self.x2 - self.x1)**2 + (self.y2 - self.y1)**2 + (self.z2 - self.z1)**2)**(1/2))\n",
        "\n",
        "    def GetR1(self):\n",
        "        return abs(((self.x1 - 0) ** 2 + (self.y1 - 0) ** 2 + (self.z1 - 0) ** 2) ** (1 / 2))\n",
        "\n",
        "    def GetR2(self):\n",
        "        return abs(((self.x2 - 0) ** 2 + (self.y2 - 0) ** 2 + (self.z2 - 0) ** 2) ** (1 / 2))\n",
        "\n",
        "    def Info(self):\n",
        "        print('-' * 20)\n",
        "        print('Отрезок в пространстве:')\n",
        "        print('Координаты в пространстве: ', self.x1, self.y1, self.z1, self.x2, self.y2, self.z2)\n",
        "        print('Длина отрезка: ', self.GetDlina())\n",
        "        print('Расстояние от начало координат до начала и конца координат отрезка соответственно: ', self.GetR1(),' и ', self.GetR2())\n",
        "        print('-' * 20)\n",
        "\n",
        "    def Load(path_to_file):\n",
        "        d = open(path_to_file).read().strip().split()\n",
        "        tmp = Par(float(d[0]),float(d[0]),float(d[0]),float(d[0]),float(d[0]),float(d[0]))\n",
        "        return tmp\n",
        "\n",
        "p1 = Par(1, 2, 1, 2, 3, 2)\n",
        "p1.Info()\n"
      ],
      "metadata": {
        "id": "N4zdqlmFzQP1",
        "outputId": "2a5c7e62-a35b-4bd6-b9aa-bd7c2beb0f67",
        "colab": {
          "base_uri": "https://localhost:8080/"
        }
      },
      "execution_count": 2,
      "outputs": [
        {
          "output_type": "stream",
          "name": "stdout",
          "text": [
            "--------------------\n",
            "Отрезок в пространстве:\n",
            "Координаты в пространстве:  1 2 1 2 3 2\n",
            "Длина отрезка:  1.7320508075688772\n",
            "Расстояние от начало координат до начала и конца координат отрезка соответственно:  2.449489742783178  и  4.123105625617661\n",
            "--------------------\n"
          ]
        }
      ]
    },
    {
      "cell_type": "markdown",
      "source": [
        "## Ответы на контрольные вопросы"
      ],
      "metadata": {
        "id": "1BBtdMwHzVwN"
      }
    },
    {
      "cell_type": "markdown",
      "source": [
        "*  Дайте определение понятию класс. --- Классы (типы) — это объектные фабрики. Их главная задача — создавать объекты, обладающие определенным поведением.\n",
        "\n",
        "*  Продемонстрируйте использование метода __init__. Поясните назначение данного метода. --- __init__ является одним из зарезервированных методов в Python. В объектно-ориентированном программировании он известен как конструктор. Метод __init__ может быть вызван, когда объект создается из класса, и для инициализации атрибутов класса требуется доступ.\n"
      ],
      "metadata": {
        "id": "XHhCPz0nrQQa"
      }
    },
    {
      "cell_type": "code",
      "source": [
        "class Personality:\n",
        "    def __init__(self, n, s):\n",
        "        self.name = n\n",
        "        self.surname = s\n",
        "\n",
        "p1 = Personality('Bob', 'Saint')\n",
        "print(p1.name, p1.surname)"
      ],
      "metadata": {
        "id": "6Zw_Yb3tsHov",
        "outputId": "657b42c9-5b5d-4f90-ffef-a188abdbd502",
        "colab": {
          "base_uri": "https://localhost:8080/"
        }
      },
      "execution_count": 3,
      "outputs": [
        {
          "output_type": "stream",
          "name": "stdout",
          "text": [
            "Bob Saint\n"
          ]
        }
      ]
    },
    {
      "cell_type": "markdown",
      "source": [
        "*  Поясните назначение статических методов и их отличия от методов класса. --- Статические методы, как и методы класса, — это методы, привязанные к классу, а не к его объекту. Они не требуют создания экземпляра класса. Они не зависят от состояния объекта.\n",
        "Разница между статическим методом и методом класса:\n",
        "  * Статический метод ничего не знает о классе и имеет дело только с параметрами.\n",
        "  * Метод класса работает с классом, поскольку его параметром всегда является сам класс.\n",
        "Их может вызывать как класс, так и его объект.\n",
        "\n",
        "*  Для чего используется параметр self в каждом методе класса? --- Используя параметр self, мы можем менять состояние объекта и обращаться к другим его методам и параметрам. К тому же, используя атрибут self.__class__, мы получаем доступ к атрибутам класса и возможности менять состояние самого класса. То есть методы экземпляров класса позволяют менять как состояние определённого объекта, так и класса.\n",
        "\n",
        "*  Сколько методов __init__ может быть объявлено внутри класса? --- Огромное множество, но работать будет всегда только последний объявленный."
      ],
      "metadata": {
        "id": "yRXbO_Wstlpm"
      }
    }
  ]
}