{
  "nbformat": 4,
  "nbformat_minor": 0,
  "metadata": {
    "colab": {
      "provenance": [],
      "include_colab_link": true
    },
    "kernelspec": {
      "name": "python3",
      "display_name": "Python 3"
    },
    "language_info": {
      "name": "python"
    }
  },
  "cells": [
    {
      "cell_type": "markdown",
      "metadata": {
        "id": "view-in-github",
        "colab_type": "text"
      },
      "source": [
        "<a href=\"https://colab.research.google.com/github/nae-stormrage/python_ncfu/blob/master/Lab_Number_Five.ipynb\" target=\"_parent\"><img src=\"https://colab.research.google.com/assets/colab-badge.svg\" alt=\"Open In Colab\"/></a>"
      ]
    },
    {
      "cell_type": "markdown",
      "source": [
        "# Практическая работа 5. Объектно-Ориентированное Программирование(ООП)\n"
      ],
      "metadata": {
        "id": "C3DZeo7xi2HL"
      }
    },
    {
      "cell_type": "markdown",
      "source": [
        "## Выполнил работу\n",
        "* ФИО: Маркус Станислав Витальевич\n",
        "* Группа: ИНС-б-о-22-2\n",
        "* Курс: 1\n",
        "* Вариант индивидуальных заданий: 15"
      ],
      "metadata": {
        "id": "QzKWf4hP1mhF"
      }
    },
    {
      "cell_type": "markdown",
      "source": [
        "## Задание"
      ],
      "metadata": {
        "id": "8wIyzax9q7JF"
      }
    },
    {
      "cell_type": "markdown",
      "source": [
        "Класс «Отрезок в пространстве». \n",
        "Реализовать:\n",
        "*   ввод и вывод полей данных (координаты начала и координаты конца отрезка)\n",
        "*   вычисление длины \n",
        "*   расстояний начала и конца отрезка от начала координат\n",
        "*   вывод информации об объекте.\n"
      ],
      "metadata": {
        "id": "A1UMdzQGjFix"
      }
    },
    {
      "cell_type": "markdown",
      "source": [
        "## Решение задачи\n"
      ],
      "metadata": {
        "id": "RGlwZaXQrAfd"
      }
    },
    {
      "cell_type": "markdown",
      "source": [
        "![1.png](data:image/png;base64,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)"
      ],
      "metadata": {
        "id": "W_VI9328uQKN"
      }
    },
    {
      "cell_type": "code",
      "source": [
        "class Par:\n",
        "    def __init__(self, px1, py1, pz1, px2, py2, pz2):\n",
        "        self.x1 = px1\n",
        "        self.y1 = py1\n",
        "        self.z1 = pz1\n",
        "        self.x2 = px2\n",
        "        self.y2 = py2\n",
        "        self.z2 = pz2\n",
        "\n",
        "\n",
        "    def GetDlina(self):\n",
        "        return abs(((self.x2 - self.x1)**2 + (self.y2 - self.y1)**2 + (self.z2 - self.z1)**2)**(1/2))\n",
        "\n",
        "    def GetR1(self):\n",
        "        return abs(((self.x1 - 0) ** 2 + (self.y1 - 0) ** 2 + (self.z1 - 0) ** 2) ** (1 / 2))\n",
        "\n",
        "    def GetR2(self):\n",
        "        return abs(((self.x2 - 0) ** 2 + (self.y2 - 0) ** 2 + (self.z2 - 0) ** 2) ** (1 / 2))\n",
        "\n",
        "    def Info(self):\n",
        "        print('-' * 20)\n",
        "        print('Отрезок в пространстве:')\n",
        "        print('Координаты в пространстве: ', self.x1, self.y1, self.z1, self.x2, self.y2, self.z2)\n",
        "        print('Длина отрезка: ', self.GetDlina())\n",
        "        print('Расстояние от начало координат до начала и конца координат отрезка соответственно: ', self.GetR1(),' и ', self.GetR2())\n",
        "        print('-' * 20)\n",
        "\n",
        "    def Load(path_to_file):\n",
        "        d = open(path_to_file).read().strip().split()\n",
        "        tmp = Par(float(d[0]),float(d[0]),float(d[0]),float(d[0]),float(d[0]),float(d[0]))\n",
        "        return tmp\n",
        "\n",
        "p1 = Par(1, 2, 1, 2, 3, 2)\n",
        "p1.Info()\n"
      ],
      "metadata": {
        "id": "N4zdqlmFzQP1",
        "outputId": "2a5c7e62-a35b-4bd6-b9aa-bd7c2beb0f67",
        "colab": {
          "base_uri": "https://localhost:8080/"
        }
      },
      "execution_count": null,
      "outputs": [
        {
          "output_type": "stream",
          "name": "stdout",
          "text": [
            "--------------------\n",
            "Отрезок в пространстве:\n",
            "Координаты в пространстве:  1 2 1 2 3 2\n",
            "Длина отрезка:  1.7320508075688772\n",
            "Расстояние от начало координат до начала и конца координат отрезка соответственно:  2.449489742783178  и  4.123105625617661\n",
            "--------------------\n"
          ]
        }
      ]
    },
    {
      "cell_type": "markdown",
      "source": [
        "## Ответы на контрольные вопросы"
      ],
      "metadata": {
        "id": "1BBtdMwHzVwN"
      }
    },
    {
      "cell_type": "markdown",
      "source": [
        "*  Дайте определение понятию класс. --- Классы (типы) — это объектные фабрики. Их главная задача — создавать объекты, обладающие определенным поведением.\n",
        "\n",
        "*  Продемонстрируйте использование метода __init__. Поясните назначение данного метода. --- __init__ является одним из зарезервированных методов в Python. В объектно-ориентированном программировании он известен как конструктор. Метод __init__ может быть вызван, когда объект создается из класса, и для инициализации атрибутов класса требуется доступ.\n"
      ],
      "metadata": {
        "id": "XHhCPz0nrQQa"
      }
    },
    {
      "cell_type": "code",
      "source": [
        "class Personality:\n",
        "    def __init__(self, n, s):\n",
        "        self.name = n\n",
        "        self.surname = s\n",
        "\n",
        "p1 = Personality('Bob', 'Saint')\n",
        "print(p1.name, p1.surname)"
      ],
      "metadata": {
        "id": "6Zw_Yb3tsHov",
        "outputId": "657b42c9-5b5d-4f90-ffef-a188abdbd502",
        "colab": {
          "base_uri": "https://localhost:8080/"
        }
      },
      "execution_count": null,
      "outputs": [
        {
          "output_type": "stream",
          "name": "stdout",
          "text": [
            "Bob Saint\n"
          ]
        }
      ]
    },
    {
      "cell_type": "markdown",
      "source": [
        "*  Поясните назначение статических методов и их отличия от методов класса. --- Статические методы, как и методы класса, — это методы, привязанные к классу, а не к его объекту. Они не требуют создания экземпляра класса. Они не зависят от состояния объекта.\n",
        "Разница между статическим методом и методом класса:\n",
        "  * Статический метод ничего не знает о классе и имеет дело только с параметрами.\n",
        "  * Метод класса работает с классом, поскольку его параметром всегда является сам класс.\n",
        "Их может вызывать как класс, так и его объект.\n",
        "\n",
        "*  Для чего используется параметр self в каждом методе класса? --- Используя параметр self, мы можем менять состояние объекта и обращаться к другим его методам и параметрам. К тому же, используя атрибут self.__class__, мы получаем доступ к атрибутам класса и возможности менять состояние самого класса. То есть методы экземпляров класса позволяют менять как состояние определённого объекта, так и класса.\n",
        "\n",
        "*  Сколько методов __init__ может быть объявлено внутри класса? --- Огромное множество, но работать будет всегда только последний объявленный."
      ],
      "metadata": {
        "id": "yRXbO_Wstlpm"
      }
    }
  ]
}