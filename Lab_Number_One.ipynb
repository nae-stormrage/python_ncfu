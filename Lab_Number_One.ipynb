{
  "nbformat": 4,
  "nbformat_minor": 0,
  "metadata": {
    "colab": {
      "provenance": [],
      "include_colab_link": true
    },
    "kernelspec": {
      "name": "python3",
      "display_name": "Python 3"
    },
    "language_info": {
      "name": "python"
    }
  },
  "cells": [
    {
      "cell_type": "markdown",
      "metadata": {
        "id": "view-in-github",
        "colab_type": "text"
      },
      "source": [
        "<a href=\"https://colab.research.google.com/github/nae-stormrage/python_ncfu/blob/master/Lab_Number_One_ipynb.ipynb\" target=\"_parent\"><img src=\"https://colab.research.google.com/assets/colab-badge.svg\" alt=\"Open In Colab\"/></a>"
      ]
    },
    {
      "cell_type": "markdown",
      "source": [
        "# Практическая работа №1. Простейший скрипт на Python."
      ],
      "metadata": {
        "id": "Px5gEjdgBx3b"
      }
    },
    {
      "cell_type": "markdown",
      "source": [
        "## Задание №1.\n",
        "\n"
      ],
      "metadata": {
        "id": "z7omeZBeCCTa"
      }
    },
    {
      "cell_type": "code",
      "source": [
        "FIO = \"Маркус Станислав Витальевич\"\n",
        "G_SH = \"ИНС-б-о-22-2, 09.03.02\"\n",
        "YAP = \"Python\"\n",
        "KRO = \"Компьютерные игры, Музыка, Программирование, Написание 2-х книг\"\n",
        "print(\"ФИО Студента:\", FIO)\n",
        "print(\"Группа студента и шифр специальности:\", G_SH)\n",
        "print(\"Перечень ЯП и ИТ-технологий, которые студент считает преспективными для изучения:\", YAP)\n",
        "print(\"Краткое описание личных увлечений, хобби, интересов:\", KRO)"
      ],
      "metadata": {
        "id": "e8BrmTsGhf0f",
        "outputId": "dd73bfca-e97c-4453-88d9-7928d3eaa128",
        "colab": {
          "base_uri": "https://localhost:8080/"
        }
      },
      "execution_count": null,
      "outputs": [
        {
          "output_type": "stream",
          "name": "stdout",
          "text": [
            "ФИО Студента: Маркус Станислав Витальевич\n",
            "Группа студента и шифр специальности: ИНС-б-о-22-2, 09.03.02\n",
            "Перечень ЯП и ИТ-технологий, которые студент считает преспективными для изучения: Python\n",
            "Краткое описание личных увлечений, хобби, интересов: Компьютерные игры, Музыка, Программирование, Написание 2-х книг\n"
          ]
        }
      ]
    },
    {
      "cell_type": "markdown",
      "source": [
        "## Задание №2."
      ],
      "metadata": {
        "id": "80wL2V_bEH_b"
      }
    },
    {
      "cell_type": "markdown",
      "source": [
        "Необходимо вычислить значение выражения:\n",
        "$$A0 = \\frac{35}{G_1} \\cdot{Zvcw} + {G_1} \\cdot{a} - \\frac{a+Zvcw}{a}$$\n",
        "Для каждой переменной необходимо вывести ее значение и тип."
      ],
      "metadata": {
        "id": "xt6IBrpMEMCz"
      }
    },
    {
      "cell_type": "markdown",
      "source": [
        "## Анализ выражения и определение переменных"
      ],
      "metadata": {
        "id": "h9crw_rdGh7u"
      }
    },
    {
      "cell_type": "markdown",
      "source": [
        "Проанализировав выражение и определив переменные, которые потребуются для выполнения задания. Независимые переменные: $G_1, Zvcw, a$. Переменная, которая должна быть вычислена на основе независимых: $A0\n",
        "$."
      ],
      "metadata": {
        "id": "fyEbKzjKGv8x"
      }
    },
    {
      "cell_type": "code",
      "source": [
        "G_1 = 7\n",
        "Zvcw = 4\n",
        "a = 8\n",
        "print(\"G_1 = \", G_1, \", type(G_1) = \", type(G_1))\n",
        "print(\"Zvcw = \", Zvcw, \", type(Zvcw) = \", type(Zvcw))\n",
        "print(\"a = \", a, \", type(a) = \", type(a))"
      ],
      "metadata": {
        "colab": {
          "base_uri": "https://localhost:8080/"
        },
        "id": "VZV96TtjHLZE",
        "outputId": "b13ef4a4-622f-41ab-f597-e0539b45e739"
      },
      "execution_count": null,
      "outputs": [
        {
          "output_type": "stream",
          "name": "stdout",
          "text": [
            "G_1 =  7 , type(G_1) =  <class 'int'>\n",
            "Zvcw =  4 , type(Zvcw) =  <class 'int'>\n",
            "a =  8 , type(a) =  <class 'int'>\n"
          ]
        }
      ]
    },
    {
      "cell_type": "markdown",
      "source": [
        "## Вычисление выражение, печать результатов."
      ],
      "metadata": {
        "id": "kUQPir7pPDev"
      }
    },
    {
      "cell_type": "markdown",
      "source": [
        "Код для вычисления значения выражения: "
      ],
      "metadata": {
        "id": "_AdE7bgmPJcY"
      }
    },
    {
      "cell_type": "code",
      "source": [
        "A0 = ((35/G_1) * Zvcw + G_1 * a - ((a + Zvcw)/a))\n",
        "\n",
        "print(\"A0 = \", A0)\n",
        "print(\"Type of A0: \", type(A0))"
      ],
      "metadata": {
        "colab": {
          "base_uri": "https://localhost:8080/"
        },
        "id": "S5_PZK8nPRT1",
        "outputId": "0b34217e-6641-4386-a2d7-1cb78ae7eeb4"
      },
      "execution_count": null,
      "outputs": [
        {
          "output_type": "stream",
          "name": "stdout",
          "text": [
            "A0 =  74.5\n",
            "Type of A0:  <class 'float'>\n"
          ]
        }
      ]
    },
    {
      "cell_type": "markdown",
      "source": [
        "Основные функции, используемые в данной практической работе: `print(), type()`\n",
        "\n"
      ],
      "metadata": {
        "id": "DTSaVRlrTDhy"
      }
    },
    {
      "cell_type": "markdown",
      "source": [
        "## Ответы на вопросы\n",
        "1. Компилированные языки программирования отличаются от интерпретируемых, тем что интерпретируемым языкам для исполнения кода не нужнен машинный код, вместо этого программу построчно исполнят интерпретаторы\n",
        "\n",
        "2. C#, C++, java, Assembler\n",
        "\n",
        "3. Python, PHP\n",
        "\n",
        "4. Переменная объявляется при помощи оператора присваивания \"=\"\n",
        "\n",
        "5. Определить тип переменной можно функцией `type(имя переменной)`\n",
        "\n",
        "6. Функция print() используется для вывода заданных объектов\n",
        "\n",
        "7. Для вычисления модуля используется функция `abs()`. Для этого необходимо подключить библиотеку math\n",
        "\n",
        "8. В качестве пользовательских имен переменных нельзя использовать: System.Double, 4perem\n",
        "\n",
        "9. Простые: int, float, str, bool, complex. Коллекции: dict, list, tuple\n",
        "\n",
        "\n",
        "\n",
        "\n"
      ],
      "metadata": {
        "id": "pVgd46bYja9B"
      }
    }
  ]
}
