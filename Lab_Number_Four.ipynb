{
  "nbformat": 4,
  "nbformat_minor": 0,
  "metadata": {
    "colab": {
      "provenance": [],
      "include_colab_link": true
    },
    "kernelspec": {
      "name": "python3",
      "display_name": "Python 3"
    },
    "language_info": {
      "name": "python"
    }
  },
  "cells": [
    {
      "cell_type": "markdown",
      "metadata": {
        "id": "view-in-github",
        "colab_type": "text"
      },
      "source": [
        "<a href=\"https://colab.research.google.com/github/nae-stormrage/python_ncfu/blob/master/Lab_Number_Four.ipynb\" target=\"_parent\"><img src=\"https://colab.research.google.com/assets/colab-badge.svg\" alt=\"Open In Colab\"/></a>"
      ]
    },
    {
      "cell_type": "markdown",
      "source": [
        "# Практическая работа 4. Данные в формате CSV\n"
      ],
      "metadata": {
        "id": "C3DZeo7xi2HL"
      }
    },
    {
      "cell_type": "markdown",
      "source": [
        "## Выполнил работу\n",
        "* ФИО: Маркус Станислав Витальевич\n",
        "* Группа: ИНС-б-о-22-2\n",
        "* Курс: 1\n",
        "* Вариант индивидуальных заданий: 15"
      ],
      "metadata": {
        "id": "QzKWf4hP1mhF"
      }
    },
    {
      "cell_type": "markdown",
      "source": [
        "## Задание"
      ],
      "metadata": {
        "id": "8wIyzax9q7JF"
      }
    },
    {
      "cell_type": "markdown",
      "source": [
        "В файле содержатся данные о счетах клиентов банка, которые \n",
        "отражают доход (plus) и расход (minus) по счету, а также сумму налога, \n",
        "которую следует оплатить (tax).\n",
        "1. Суммарный расход по счетам клиентов, у которых не указан e-mail.\n",
        "2. Клиент с самым большим балансом с учетом уплаты налогов.\n",
        "3. Средний доход по счетам с положительным балансом.\n",
        "4. Суммарная сумма налогов у клиентов с отрицательным балансом\n"
      ],
      "metadata": {
        "id": "A1UMdzQGjFix"
      }
    },
    {
      "cell_type": "markdown",
      "source": [
        "## Решение задачи\n"
      ],
      "metadata": {
        "id": "RGlwZaXQrAfd"
      }
    },
    {
      "cell_type": "code",
      "source": [
        "!wget https://raw.githubusercontent.com/enikolaev/IT-and-Programming/main/data/pract4/p4_data_15.csv\n"
      ],
      "metadata": {
        "id": "RWtwma1Qrqwn",
        "outputId": "1f0fe1a8-f25c-4aef-df7c-8287700a08d0",
        "colab": {
          "base_uri": "https://localhost:8080/"
        }
      },
      "execution_count": null,
      "outputs": [
        {
          "output_type": "stream",
          "name": "stdout",
          "text": [
            "--2023-03-12 12:32:21--  https://raw.githubusercontent.com/enikolaev/IT-and-Programming/main/data/pract4/p4_data_15.csv\n",
            "Resolving raw.githubusercontent.com (raw.githubusercontent.com)... 185.199.108.133, 185.199.109.133, 185.199.110.133, ...\n",
            "Connecting to raw.githubusercontent.com (raw.githubusercontent.com)|185.199.108.133|:443... connected.\n",
            "HTTP request sent, awaiting response... 200 OK\n",
            "Length: 92780 (91K) [text/plain]\n",
            "Saving to: ‘p4_data_15.csv’\n",
            "\n",
            "\rp4_data_15.csv        0%[                    ]       0  --.-KB/s               \rp4_data_15.csv      100%[===================>]  90.61K  --.-KB/s    in 0.008s  \n",
            "\n",
            "2023-03-12 12:32:22 (11.2 MB/s) - ‘p4_data_15.csv’ saved [92780/92780]\n",
            "\n"
          ]
        }
      ]
    },
    {
      "cell_type": "code",
      "source": [
        "F = open(\"p4_data_15.csv\")\n",
        "header = F.readline().strip().split(',')\n",
        "\n",
        "all_clients = []\n",
        "\n",
        "print('-' * 20)\n",
        "n_to_print = 10\n",
        "summa_minus = 0\n",
        "max_balance = 0\n",
        "total_plus = 0\n",
        "count_plus = 0\n",
        "avg_plus = 0\n",
        "summa_nalog_minus = 0\n",
        "\n",
        "for line in F:\n",
        "    data = line.strip().split(',')\n",
        "    client = {}\n",
        "    for i, key in enumerate(header):\n",
        "        client[key] = data[i]\n",
        "\n",
        "    client['Minus'] = float(client['Minus'][1:])\n",
        "    client['Plus'] = float(client['Plus'][1:])\n",
        "    client['Tax'] = float(client['Tax'][1:])\n",
        "    all_clients.append(client)\n",
        "\n",
        "    #Задание №1 - Суммарный расход по счетам клиентов, с пустым полем \"email\"\n",
        "    if client['email'] == '': #Условие для поиска клиентов без email\n",
        "        summa_minus += client['Minus'] #прибавление к переменной summa_minus число стоящее в поле \"Minus\", если условие было соблюдено.\n",
        "\n",
        "    client['Minus'] = float(client['Minus'])\n",
        "    client['Plus'] = float(client['Plus'])\n",
        "    client['Tax'] = float(client['Tax'])\n",
        "\n",
        "    #Задание №2 - Поиск клиента с самым большим балансом после уплаты налогов\n",
        "    balance = client['Plus'] - client['Minus'] - client['Tax']\n",
        "    max_balance = max(max_balance, balance)\n",
        "\n",
        "    #Задание №3 - Поиск среднего дохода людей с положительным балансом\n",
        "    if balance > 0:\n",
        "        total_plus += client['Plus']\n",
        "        count_plus += 1\n",
        "        avg_plus = total_plus / count_plus\n",
        "\n",
        "    #Задание №4 - Поиск суммы налогов людей с отрицательным балансом\n",
        "    if balance < 0:\n",
        "        summa_nalog_minus += client['Tax']\n",
        "\n",
        "\n",
        "print('Задание №1 - Сумма всех расходов людей без email: ', summa_minus)\n",
        "print('Задание №2 - Человек с максимальным балансом после вычета налога: ', client['LastName'] + ' ' + client['FirstName'], max_balance)\n",
        "print('Задание №3 - Средний доход всех людей с положительным балансом:', avg_plus)\n",
        "print('Задание №4 - Сумма налогов всех людей с отрицательным балансом', summa_nalog_minus)\n",
        "\n"
      ],
      "metadata": {
        "id": "N4zdqlmFzQP1",
        "outputId": "b85338e5-f043-462a-caeb-12611f2577d3",
        "colab": {
          "base_uri": "https://localhost:8080/"
        }
      },
      "execution_count": null,
      "outputs": [
        {
          "output_type": "stream",
          "name": "stdout",
          "text": [
            "--------------------\n",
            "Задание №1 - Сумма всех расходов людей без email:  5356103.269999999\n",
            "Задание №2 - Человек с максимальным балансом после вычета налога:  Marages Dù 38122.35\n",
            "Задание №3 - Средний доход всех людей с положительным балансом: 37972.03958083833\n",
            "Задание №4 - Сумма налогов всех людей с отрицательным балансом 22809241.500000007\n"
          ]
        }
      ]
    },
    {
      "cell_type": "markdown",
      "source": [
        "## Ответы на контрольные вопросы"
      ],
      "metadata": {
        "id": "1BBtdMwHzVwN"
      }
    },
    {
      "cell_type": "markdown",
      "source": [
        "*   Напишите код для печати сумму элементов списка p = [10, 100, 34, 56, 45, 45]\n",
        "\n"
      ],
      "metadata": {
        "id": "j874to_Fza0A"
      }
    },
    {
      "cell_type": "code",
      "source": [
        "p = [10, 100, 34, 56, 45, 45]\n",
        "s = sum(p)\n",
        "print(s)"
      ],
      "metadata": {
        "colab": {
          "base_uri": "https://localhost:8080/"
        },
        "id": "timCoe2k0jTD",
        "outputId": "316f27f6-0427-4130-8334-1867a30b958b"
      },
      "execution_count": null,
      "outputs": [
        {
          "output_type": "stream",
          "name": "stdout",
          "text": [
            "290\n"
          ]
        }
      ]
    },
    {
      "cell_type": "markdown",
      "source": [
        "*   Напишите код для печати количества элементов списка p = [10, 100, 34, 56, 45, 45]"
      ],
      "metadata": {
        "id": "MjyUIlZQ01F3"
      }
    },
    {
      "cell_type": "code",
      "source": [
        "p = [10, 100, 34, 56, 45, 45]\n",
        "s = len(p)\n",
        "print(s)"
      ],
      "metadata": {
        "colab": {
          "base_uri": "https://localhost:8080/"
        },
        "id": "nFhlvc2y07jl",
        "outputId": "361a8053-320b-4311-a2dd-1114287945f1"
      },
      "execution_count": null,
      "outputs": [
        {
          "output_type": "stream",
          "name": "stdout",
          "text": [
            "6\n"
          ]
        }
      ]
    },
    {
      "cell_type": "markdown",
      "source": [
        "*   Напишите код для печати суммы элементов кратных 7: p = [10, 100, 35, 34, 56, 45, 45, 21]"
      ],
      "metadata": {
        "id": "aK8l1clQ1Bos"
      }
    },
    {
      "cell_type": "code",
      "source": [
        "p = [10, 100, 34, 56, 45, 45, 21]\n",
        "s = 0\n",
        "for i in range(len(p)):\n",
        "  if p[i] % 7 == 0:\n",
        "    s += p[i]\n",
        "print(s)"
      ],
      "metadata": {
        "colab": {
          "base_uri": "https://localhost:8080/"
        },
        "id": "6MhpNIi81Evu",
        "outputId": "3d4bb469-2b43-425a-d004-a9efbfe51096"
      },
      "execution_count": null,
      "outputs": [
        {
          "output_type": "stream",
          "name": "stdout",
          "text": [
            "77\n"
          ]
        }
      ]
    },
    {
      "cell_type": "markdown",
      "source": [
        "*  Напишите код для поиска ключей словаря d, для которых значения превышают 45: p = {4:10, 12:100, 35:3, 34:56, 56:11, 45:’abc’}\n"
      ],
      "metadata": {
        "id": "AmWODRZF1icL"
      }
    },
    {
      "cell_type": "code",
      "source": [
        "p = {4:10, 12:100, 35:3, 34:56, 56:11, 45:\"abc\"}\n",
        "p1 = list(p.values())\n",
        "\n",
        "for i in range(len(p1)):\n",
        "  i = p1[i]\n",
        "  if (type(i) != str) and (i > 45):\n",
        "    print(i)"
      ],
      "metadata": {
        "colab": {
          "base_uri": "https://localhost:8080/"
        },
        "id": "RZh_65JE1mzl",
        "outputId": "cd62e537-54ec-46c8-df72-1ff5e1b70e02"
      },
      "execution_count": 1,
      "outputs": [
        {
          "output_type": "stream",
          "name": "stdout",
          "text": [
            "100\n",
            "56\n"
          ]
        }
      ]
    },
    {
      "cell_type": "markdown",
      "source": [
        "*   Напишите код, который выводит список, составленный из квадратов чисел от 1 до 100. Сам список также необходимо сгенерировать"
      ],
      "metadata": {
        "id": "JN-7oh_u6gOH"
      }
    },
    {
      "cell_type": "code",
      "source": [
        "numbers_2 = []\n",
        "for i in range(101):\n",
        "  numbers_2.append(i**2)\n",
        "print(numbers_2)"
      ],
      "metadata": {
        "colab": {
          "base_uri": "https://localhost:8080/"
        },
        "id": "w_ailWsN6i7U",
        "outputId": "3b531b9b-1064-4373-afec-0f18b0794290"
      },
      "execution_count": null,
      "outputs": [
        {
          "output_type": "stream",
          "name": "stdout",
          "text": [
            "[0, 1, 4, 9, 16, 25, 36, 49, 64, 81, 100, 121, 144, 169, 196, 225, 256, 289, 324, 361, 400, 441, 484, 529, 576, 625, 676, 729, 784, 841, 900, 961, 1024, 1089, 1156, 1225, 1296, 1369, 1444, 1521, 1600, 1681, 1764, 1849, 1936, 2025, 2116, 2209, 2304, 2401, 2500, 2601, 2704, 2809, 2916, 3025, 3136, 3249, 3364, 3481, 3600, 3721, 3844, 3969, 4096, 4225, 4356, 4489, 4624, 4761, 4900, 5041, 5184, 5329, 5476, 5625, 5776, 5929, 6084, 6241, 6400, 6561, 6724, 6889, 7056, 7225, 7396, 7569, 7744, 7921, 8100, 8281, 8464, 8649, 8836, 9025, 9216, 9409, 9604, 9801, 10000]\n"
          ]
        }
      ]
    },
    {
      "cell_type": "markdown",
      "source": [
        "*   Опишите структуру файла csv. Поясните последовательность действий при чтении файла csv. - Файл CSV (значения, разделенные запятыми) позволяет сохранять данные в табличной структуре с расширением .csv. CSV-файлы широко используются в приложениях электронной коммерции, поскольку их очень легко обрабатывать. Для начала мы импортируем модуль CSV, а затем открываем наш файл CSV в виде File. Затем мы определяем объект reader и используем метод csv.reader для извлечения данных в объект. Затем мы перебираем объект reader и извлекаем каждую строку наших данных."
      ],
      "metadata": {
        "id": "ayRAcz087DMk"
      }
    }
  ]
}