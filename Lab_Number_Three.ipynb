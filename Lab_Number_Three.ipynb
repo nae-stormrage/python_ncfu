{
  "nbformat": 4,
  "nbformat_minor": 0,
  "metadata": {
    "colab": {
      "provenance": [],
      "include_colab_link": true
    },
    "kernelspec": {
      "name": "python3",
      "display_name": "Python 3"
    },
    "language_info": {
      "name": "python"
    }
  },
  "cells": [
    {
      "cell_type": "markdown",
      "metadata": {
        "id": "view-in-github",
        "colab_type": "text"
      },
      "source": [
        "<a href=\"https://colab.research.google.com/github/nae-stormrage/python_ncfu/blob/master/Lab_Number_Three.ipynb\" target=\"_parent\"><img src=\"https://colab.research.google.com/assets/colab-badge.svg\" alt=\"Open In Colab\"/></a>"
      ]
    },
    {
      "cell_type": "markdown",
      "source": [
        "# Практическая работа 3. Обработка данных из файла.\n"
      ],
      "metadata": {
        "id": "C3DZeo7xi2HL"
      }
    },
    {
      "cell_type": "markdown",
      "source": [
        "## Выполнил работу\n",
        "* ФИО: Маркус Станислав Витальевич\n",
        "* Группа: ИНС-б-о-22-2\n",
        "* Курс: 1\n",
        "* Вариант индивидуальных заданий: 15"
      ],
      "metadata": {
        "id": "QzKWf4hP1mhF"
      }
    },
    {
      "cell_type": "markdown",
      "source": [
        "## Задание"
      ],
      "metadata": {
        "id": "8wIyzax9q7JF"
      }
    },
    {
      "cell_type": "markdown",
      "source": [
        "В файле data_v2.txt содержится последовательность символов, содержащая буквы латинского алфавита и десятичные цифры. Необходимо посчитать количество символов, \n",
        "расположенных между заглавными буквами.\n"
      ],
      "metadata": {
        "id": "A1UMdzQGjFix"
      }
    },
    {
      "cell_type": "markdown",
      "source": [
        "## Решение задачи\n"
      ],
      "metadata": {
        "id": "RGlwZaXQrAfd"
      }
    },
    {
      "cell_type": "code",
      "source": [
        "!wget https://raw.githubusercontent.com/enikolaev/IT-and-Programming/main/data/data_v2.txt\n"
      ],
      "metadata": {
        "id": "RWtwma1Qrqwn",
        "outputId": "26acc55e-ef7e-4dcb-bde3-e26eda1ebd0c",
        "colab": {
          "base_uri": "https://localhost:8080/"
        }
      },
      "execution_count": null,
      "outputs": [
        {
          "output_type": "stream",
          "name": "stdout",
          "text": [
            "--2023-02-28 11:21:55--  https://raw.githubusercontent.com/enikolaev/IT-and-Programming/main/data/data_v2.txt\n",
            "Resolving raw.githubusercontent.com (raw.githubusercontent.com)... 185.199.108.133, 185.199.109.133, 185.199.110.133, ...\n",
            "Connecting to raw.githubusercontent.com (raw.githubusercontent.com)|185.199.108.133|:443... connected.\n",
            "HTTP request sent, awaiting response... 200 OK\n",
            "Length: 85775 (84K) [text/plain]\n",
            "Saving to: ‘data_v2.txt’\n",
            "\n",
            "\rdata_v2.txt           0%[                    ]       0  --.-KB/s               \rdata_v2.txt         100%[===================>]  83.76K  --.-KB/s    in 0.01s   \n",
            "\n",
            "2023-02-28 11:21:55 (5.83 MB/s) - ‘data_v2.txt’ saved [85775/85775]\n",
            "\n"
          ]
        }
      ]
    },
    {
      "cell_type": "code",
      "source": [
        "import string\n",
        "import re\n",
        "\n",
        "j = str(string.ascii_uppercase)\n",
        "print(\"Кол-во букв в алфавите верхнего регистра:\", len(j))\n",
        "\n",
        "f = open(\"data_v2.txt\")\n",
        "s = f.read().strip()\n",
        "print(\"Кол-во символов в строке:\", len(s))\n",
        "\n",
        "for i in range(26):\n",
        "    s = s.replace(j[i],'/')\n",
        "\n",
        "\n",
        "n = len(re.findall('/', s))\n",
        "print(\"Кол-во символов, которые находятся между всеми буквами верхнего регистра:\", len(s) - n)\n"
      ],
      "metadata": {
        "id": "N4zdqlmFzQP1",
        "outputId": "aa56c734-91c9-4a82-a466-7d88363f5524",
        "colab": {
          "base_uri": "https://localhost:8080/"
        }
      },
      "execution_count": 7,
      "outputs": [
        {
          "output_type": "stream",
          "name": "stdout",
          "text": [
            "Кол-во букв в алфавите верхнего регистра: 26\n",
            "Кол-во символов в строке: 85775\n",
            "Кол-во символов, которые находятся между всеми буквами верхнего регистра: 49648\n"
          ]
        }
      ]
    },
    {
      "cell_type": "markdown",
      "source": [
        "## Ответы на контрольные вопросы"
      ],
      "metadata": {
        "id": "1BBtdMwHzVwN"
      }
    },
    {
      "cell_type": "markdown",
      "source": [
        "* Что общего у строки и списка в Python? - Каждый элемент в строках и списках имеет свой уникальный индекс.\n",
        "* Перечислите и охарактеризуйте функции класса str в Python. -  Функция `str()` выполняет преобразование и возвращает строковую версию объекта.\n",
        "\n",
        "  1.   `str.isalnum()` - проверка буквенно-цифровых символов строки\n",
        "  2.   `str.isalpha()` - проверка буквенных символов строки\n",
        "  3.   `str.isacsii()` - проверка ASCII-символов строки\n",
        "  4.   `str.isdecimal()` - проверка дестичных символов строки\n",
        "  5.   `str.isdigit()` - проверка цифр в строке.\n",
        "  6.   `str.isdentifier()` - проверка строки на индентификатор или ключевое слово\n",
        "  7.   `str.islower()` - проверка на символы нижнего регистра\n",
        "  8.   `str.isupper()` - проверка на символы верхнего регистра\n",
        "  9.   `str.isnumeric()` - проверка на числовые символы строки\n",
        "  10.  `str.isprintable()` - проверка на печатуемые символы строки\n",
        "  11.  `str.isspace()` - проверка на пробельные символы строки\n",
        "  12.  `str.istitle()` - проверка на символы заголовка строки\n",
        "\n",
        "* Охарактеризуйте тип данных dict в Python. - Словарь (dict) представляет собой структуру данных (которая ещё называется ассоциативный массив), предназначенную для хранения произвольных объектов с доступом по ключу.\n",
        "\n",
        "* Перечислите и опишите использование функций класса dict.\n",
        "\n",
        "  1.   `dict.clear()` - очищает словарь.\n",
        "  2.   `dict.copy()` - возвращает копию словаря.\n",
        "  3.   `dict.get(key)` - возвращает значение ключа из словаря.\n",
        "  4.   `dict.items()` - возвращает пары(ключ и значение).\n",
        "  5.   `dict.pop(key)` - удаляет ключ и возвращает значение.\n",
        "  6.   `dict.popitem()` - удаляет ключ и возвращает пары.\n",
        "  7.   `dict.values()` - возвращает значение в словаре.\n",
        "\n",
        "* Опишите механизм чтения данных из текстового файла. - Присваиваем условную переменную и пользуемся методом `open()`\n",
        "\n",
        "* Опишите назначение, сходства и различия функций чтения из текстового \n",
        "файла: `read()`, `readline()`, `readlines()`.\n",
        "\n",
        "  1.   `read()` - метод просто читает содержимое файла.\n",
        "  2.   `readline()` - метод считывания одной строки из файла.\n",
        "  3.   `readlines()` - метод считывания всех строк из файла и создает список из файла.\n",
        "\n",
        "* Как прочитать многострочный текстовый файл не используя явно методы \n",
        "read(), readline(), readlines()? - При помощи цикла `for line in file1`, где мы будем итерировать кажду строку \n",
        "\n"
      ],
      "metadata": {
        "id": "j874to_Fza0A"
      }
    }
  ]
}